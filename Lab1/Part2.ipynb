{
  "nbformat": 4,
  "nbformat_minor": 0,
  "metadata": {
    "colab": {
      "provenance": []
    },
    "kernelspec": {
      "name": "python3",
      "display_name": "Python 3"
    },
    "language_info": {
      "name": "python"
    }
  },
  "cells": [
    {
      "cell_type": "code",
      "source": [
        "#Task 1\n",
        "def triangle():\n",
        "  print(\"     *    \")\n",
        "  print(\"   *   *   \")\n",
        "  print(\"  *      *  \")\n",
        "  print(\"*         * \")\n",
        "  print(\"************\")\n",
        "  return\n",
        "\n",
        "def rectangle():\n",
        "  print(\"************\")\n",
        "  print(\"*          *\")\n",
        "  print(\"*          *\")\n",
        "  print(\"*          *\")\n",
        "  print(\"*          *\")\n",
        "  print(\"************\")\n",
        "  return\n",
        "\n",
        "key=input(\"Enter 1 for triangle and 2 for rectangle: \")\n",
        "if key=='1':\n",
        "  triangle()\n",
        "elif key=='2':\n",
        "  rectangle()\n",
        "else:\n",
        "  print(\"Error in the input\")"
      ],
      "metadata": {
        "id": "m_UA1QIJYU04"
      },
      "execution_count": null,
      "outputs": []
    },
    {
      "cell_type": "code",
      "source": [
        "#Task 2"
      ],
      "metadata": {
        "id": "2OHCjfw9YUo4"
      },
      "execution_count": null,
      "outputs": []
    },
    {
      "cell_type": "code",
      "source": [
        "#Task 3\n",
        "r = float(input(\"Enter radius : \"))\n",
        "h = float(input(\"Enter height : \"))\n",
        "pi=3.142\n",
        "rsquare=r**2\n",
        "Volume=rsquare*pi*h\n",
        "print(\"The Volume is \", Volume)"
      ],
      "metadata": {
        "colab": {
          "base_uri": "https://localhost:8080/"
        },
        "id": "wtmr6gT-wnTE",
        "outputId": "0bc2f192-6ac3-4910-9976-30d02d9ee111"
      },
      "execution_count": null,
      "outputs": [
        {
          "output_type": "stream",
          "name": "stdout",
          "text": [
            "Enter radius : 3\n",
            "Enter height : 5\n",
            "The Volume is  141.39\n"
          ]
        }
      ]
    },
    {
      "cell_type": "code",
      "source": [
        "#Task4\n",
        "print(\" To perform Addition enter + \")\n",
        "print(\" To perform Subtraction enter - \")\n",
        "print(\" To perform Multplication enter * \")\n",
        "print(\" To perform Division enter / \")\n",
        "operator=input(\"Enter Operator\")\n",
        "num1=int(input(\"Enter Number\"))\n",
        "num2=int(input(\"Enter Another Number\"))\n",
        "def getAnswer(operator,num1,num2):\n",
        "  if operator=='+':\n",
        "    print(\"The Ans=\",num1 + num2)\n",
        "  elif operator=='-':\n",
        "    print(\"The Ans=\",num1 - num2)\n",
        "  elif operator=='*':\n",
        "    output=num2*num1\n",
        "    print(\"The Ans=\",output)\n",
        "  elif operator=='/':\n",
        "     output=num2/num1\n",
        "     print(\"The Ans=\",output)\n",
        "getAnswer(operator,num1,num2)"
      ],
      "metadata": {
        "colab": {
          "base_uri": "https://localhost:8080/"
        },
        "id": "giTHY-O0y3FM",
        "outputId": "274e148a-a56f-4c36-ba7d-cd74ae88fc84"
      },
      "execution_count": null,
      "outputs": [
        {
          "output_type": "stream",
          "name": "stdout",
          "text": [
            " To perform Addition enter + \n",
            " To perform Subtraction enter - \n",
            " To perform Multplication enter * \n",
            " To perform Division enter \\ \n",
            "Enter Operator/\n",
            "Enter Number3\n",
            "Enter Another Number9\n",
            "The Ans= 3.0\n"
          ]
        }
      ]
    },
    {
      "cell_type": "code",
      "source": [
        "#Task5\n",
        "string=input(\"Enter a string\")\n",
        "reverse=string[::-1]\n",
        "if string==reverse:\n",
        "  print(\"Palindrome\")\n",
        "else:\n",
        "  print(\"Not a palindrome\")\n"
      ],
      "metadata": {
        "id": "nDkaTKuzy3dS",
        "colab": {
          "base_uri": "https://localhost:8080/"
        },
        "outputId": "99436a09-d0e6-41e2-d100-8f76628b4be2"
      },
      "execution_count": null,
      "outputs": [
        {
          "output_type": "stream",
          "name": "stdout",
          "text": [
            "Enter a stringracecar\n",
            "Palindrome\n"
          ]
        }
      ]
    },
    {
      "cell_type": "code",
      "source": [
        "#Task 6\n",
        "n=int(input(\"Enter a number\"))\n",
        "def factorial(n):\n",
        "    if n < 0:\n",
        "        return 'Factorial does not exist'\n",
        "    elif n == 0:\n",
        "        return 1\n",
        "    else:\n",
        "        return n * factorial(n-1)\n",
        "\n",
        "print(factorial(n))"
      ],
      "metadata": {
        "id": "uuAdEFL88JrO",
        "colab": {
          "base_uri": "https://localhost:8080/"
        },
        "outputId": "598e5c2b-4274-4848-8ce0-4c45d88d1067"
      },
      "execution_count": null,
      "outputs": [
        {
          "output_type": "stream",
          "name": "stdout",
          "text": [
            "Enter a number4\n",
            "24\n"
          ]
        }
      ]
    },
    {
      "cell_type": "code",
      "source": [
        "#Task 7\n",
        "list1= []\n",
        "list2= []\n",
        "n = int(input(\"Enter number of elements in list 1 : \"))\n",
        "m = int(input(\"Enter number of elements in list 2 : \"))\n",
        "for i in range(0, n):\n",
        "    element = int(input())\n",
        "    list1.append(element)\n",
        "for l in range(0, m):\n",
        "    elements = int(input())\n",
        "    list2.append(elements)\n",
        "print(\"The first list is : \" + str(list1))\n",
        "print(\"The second list is : \" + str(list2))\n",
        "list1.sort()\n",
        "list2.sort()\n",
        "if list1 == list2:\n",
        "    print(\"True\")\n",
        "else:\n",
        "    print(\"False\")"
      ],
      "metadata": {
        "colab": {
          "base_uri": "https://localhost:8080/"
        },
        "id": "y5GsjISuBIb8",
        "outputId": "69e83780-9b36-499b-b0b0-8b8124eb4e0d"
      },
      "execution_count": null,
      "outputs": [
        {
          "output_type": "stream",
          "name": "stdout",
          "text": [
            "Enter number of elements in list 1 : 5\n",
            "Enter number of elements in list 2 : 5\n",
            "1\n",
            "2\n",
            "3\n",
            "4\n",
            "5\n",
            "1\n",
            "2\n",
            "3\n",
            "4\n",
            "5\n",
            "The first list is : [1, 2, 3, 4, 5]\n",
            "The second list is : [1, 2, 3, 4, 5]\n",
            "True\n"
          ]
        }
      ]
    },
    {
      "cell_type": "code",
      "source": [
        "#Task 8\n",
        "A={3,4,5,6,7,8}\n",
        "B={6,7,8}\n",
        "print(A.issuperset(B))\n"
      ],
      "metadata": {
        "colab": {
          "base_uri": "https://localhost:8080/"
        },
        "id": "jh1d2aQ5BIqw",
        "outputId": "2cc335f5-30f0-4b64-c4fa-ffc8a95a8118"
      },
      "execution_count": null,
      "outputs": [
        {
          "output_type": "stream",
          "name": "stdout",
          "text": [
            "True\n"
          ]
        }
      ]
    }
  ]
}