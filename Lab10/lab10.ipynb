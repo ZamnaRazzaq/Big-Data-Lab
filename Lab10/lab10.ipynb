{
  "nbformat": 4,
  "nbformat_minor": 0,
  "metadata": {
    "colab": {
      "provenance": []
    },
    "kernelspec": {
      "name": "python3",
      "display_name": "Python 3"
    },
    "language_info": {
      "name": "python"
    }
  },
  "cells": [
    {
      "cell_type": "code",
      "execution_count": 1,
      "metadata": {
        "colab": {
          "base_uri": "https://localhost:8080/"
        },
        "id": "_O7b6P71oVvb",
        "outputId": "4f222a80-f8f5-44d5-e4c2-50b53f64527b"
      },
      "outputs": [
        {
          "output_type": "stream",
          "name": "stdout",
          "text": [
            "Looking in indexes: https://pypi.org/simple, https://us-python.pkg.dev/colab-wheels/public/simple/\n",
            "Collecting pyspark\n",
            "  Downloading pyspark-3.4.0.tar.gz (310.8 MB)\n",
            "\u001b[2K     \u001b[90m━━━━━━━━━━━━━━━━━━━━━━━━━━━━━━━━━━━━━━━\u001b[0m \u001b[32m310.8/310.8 MB\u001b[0m \u001b[31m4.3 MB/s\u001b[0m eta \u001b[36m0:00:00\u001b[0m\n",
            "\u001b[?25h  Preparing metadata (setup.py) ... \u001b[?25l\u001b[?25hdone\n",
            "Requirement already satisfied: py4j==0.10.9.7 in /usr/local/lib/python3.9/dist-packages (from pyspark) (0.10.9.7)\n",
            "Building wheels for collected packages: pyspark\n",
            "  Building wheel for pyspark (setup.py) ... \u001b[?25l\u001b[?25hdone\n",
            "  Created wheel for pyspark: filename=pyspark-3.4.0-py2.py3-none-any.whl size=311317145 sha256=bed63d8622a8a7027cdde7e0a47ce6c07ddb3176d91b61921b1db6e5a7559490\n",
            "  Stored in directory: /root/.cache/pip/wheels/9f/34/a4/159aa12d0a510d5ff7c8f0220abbea42e5d81ecf588c4fd884\n",
            "Successfully built pyspark\n",
            "Installing collected packages: pyspark\n",
            "Successfully installed pyspark-3.4.0\n"
          ]
        }
      ],
      "source": [
        "! pip install pyspark"
      ]
    },
    {
      "cell_type": "code",
      "source": [
        "from pyspark import SparkContext, SparkConf"
      ],
      "metadata": {
        "id": "SXb16hAJoyf2"
      },
      "execution_count": 2,
      "outputs": []
    },
    {
      "cell_type": "code",
      "source": [
        "appName=\"lab10\"\n",
        "master=\"local[*]\""
      ],
      "metadata": {
        "id": "iBVsd_1To2VI"
      },
      "execution_count": 3,
      "outputs": []
    },
    {
      "cell_type": "code",
      "source": [
        "conf = SparkConf().setAppName(appName).setMaster(master)\n",
        "sc = SparkContext(conf=conf)"
      ],
      "metadata": {
        "id": "74hddXWbo5bY"
      },
      "execution_count": 4,
      "outputs": []
    },
    {
      "cell_type": "code",
      "source": [
        "fileRDD=sc.textFile(\"file.txt\")\n",
        "type(fileRDD)"
      ],
      "metadata": {
        "colab": {
          "base_uri": "https://localhost:8080/"
        },
        "id": "bDgLx7hUrk4L",
        "outputId": "b5a69868-47ec-4e7e-ac67-17e47f15fe8a"
      },
      "execution_count": 5,
      "outputs": [
        {
          "output_type": "execute_result",
          "data": {
            "text/plain": [
              "pyspark.rdd.RDD"
            ]
          },
          "metadata": {},
          "execution_count": 5
        }
      ]
    },
    {
      "cell_type": "markdown",
      "source": [
        "Task 1"
      ],
      "metadata": {
        "id": "ykR1TBwj1sCR"
      }
    },
    {
      "cell_type": "code",
      "source": [
        "errorRDD = fileRDD.filter(lambda x: \"L\" in x)\n",
        "errorRDD.collect()"
      ],
      "metadata": {
        "colab": {
          "base_uri": "https://localhost:8080/"
        },
        "id": "llNfwgMdrqsg",
        "outputId": "b94ded30-2581-42c7-af17-9bb7c09bca38"
      },
      "execution_count": 6,
      "outputs": [
        {
          "output_type": "execute_result",
          "data": {
            "text/plain": [
              "['L22-2100 DB D',\n",
              " 'L21-1705 OS A',\n",
              " 'L21-1705 OS A',\n",
              " 'L22-2101 DB D',\n",
              " 'L21-1601 SE F',\n",
              " 'L21-1702 SE B',\n",
              " 'L21-1705 DB A']"
            ]
          },
          "metadata": {},
          "execution_count": 6
        }
      ]
    },
    {
      "cell_type": "markdown",
      "source": [
        "Task 2"
      ],
      "metadata": {
        "id": "t03lqqKr2zWH"
      }
    },
    {
      "cell_type": "code",
      "source": [
        "errorRDD = fileRDD.filter(lambda x: \"L\" in x)\n",
        "errorRDD.count()"
      ],
      "metadata": {
        "colab": {
          "base_uri": "https://localhost:8080/"
        },
        "id": "la0o1dgMqcn7",
        "outputId": "5d6ae287-003a-4f3f-8d24-a638ebb18a40"
      },
      "execution_count": null,
      "outputs": [
        {
          "output_type": "execute_result",
          "data": {
            "text/plain": [
              "7"
            ]
          },
          "metadata": {},
          "execution_count": 16
        }
      ]
    },
    {
      "cell_type": "markdown",
      "source": [
        "Task 3"
      ],
      "metadata": {
        "id": "Nz38aDgn-MKH"
      }
    },
    {
      "cell_type": "code",
      "source": [
        "errorRDD = fileRDD.filter(lambda x:x[0][1:3]>='1995'or x[0][1:3]<='2023')\n",
        "errorRDD.collect()"
      ],
      "metadata": {
        "colab": {
          "base_uri": "https://localhost:8080/"
        },
        "id": "_SEF_tni3Kbp",
        "outputId": "be1e9974-e672-4124-dce3-97073a279be5"
      },
      "execution_count": null,
      "outputs": [
        {
          "output_type": "execute_result",
          "data": {
            "text/plain": [
              "['L22-2100 DB D',\n",
              " 'K21-1601 SE F',\n",
              " 'I21-1601 OS F',\n",
              " 'K21-1702 DS B',\n",
              " 'L21-1705 OS A',\n",
              " 'L21-1705 OS A',\n",
              " 'L22-2101 DB D',\n",
              " 'K21-1601 OS F',\n",
              " 'L21-1601 SE F',\n",
              " 'L21-1702 SE B',\n",
              " 'L21-1705 DB A',\n",
              " 'F20-1700 DB B',\n",
              " 'F21-1500 SE C',\n",
              " 'P22-2500 DS B',\n",
              " 'P21-1900 OS B',\n",
              " 'K18-1230 DB A']"
            ]
          },
          "metadata": {},
          "execution_count": 9
        }
      ]
    },
    {
      "cell_type": "markdown",
      "source": [
        "Task 4"
      ],
      "metadata": {
        "id": "qxqKXcLAjxQc"
      }
    },
    {
      "cell_type": "code",
      "source": [
        "fileRDD = fileRDD.map(lambda x: x.split())\n",
        "L=fileRDD.filter(lambda x:x[0][0]=='L')\n",
        "K=fileRDD.filter(lambda x:x[0][0]=='K')\n",
        "I=fileRDD.filter(lambda x:x[0][0]=='I')\n",
        "P=fileRDD.filter(lambda x:x[0][0]=='P')\n",
        "F=fileRDD.filter(lambda x:x[0][0]=='F')\n",
        "print(\"Lahore\", L.count())\n",
        "print(\"Karachi\", K.count())\n",
        "print(\"Faislabad\", F.count())\n",
        "print(\"Peshawar\", P.count())\n",
        "print(\"Islamabad\",I.count())"
      ],
      "metadata": {
        "colab": {
          "base_uri": "https://localhost:8080/"
        },
        "id": "ex1MBZal_X1t",
        "outputId": "f079d958-e926-4609-ae1d-757c959ed309"
      },
      "execution_count": 9,
      "outputs": [
        {
          "output_type": "stream",
          "name": "stdout",
          "text": [
            "Lahore 7\n",
            "Karachi 4\n",
            "Faislabad 2\n",
            "Peshawar 2\n",
            "Islamabad 1\n"
          ]
        }
      ]
    },
    {
      "cell_type": "markdown",
      "source": [
        "Task 5"
      ],
      "metadata": {
        "id": "rUYbBmtnmDSc"
      }
    },
    {
      "cell_type": "code",
      "source": [
        "LDB=L.filter(lambda x:x[1][0:2]=='DB'and x[2][0]=='F')\n",
        "LOS=L.filter(lambda x:x[1][0:2]=='OS'and x[2][0]=='F')\n",
        "LSE=L.filter(lambda x:x[1][0:2]=='SE'and x[2][0]=='F')\n",
        "\n",
        "KDB=K.filter(lambda x:x[1][0:2]=='DB'and x[2][0]=='F')\n",
        "KOS=K.filter(lambda x:x[1][0:2]=='OS'and x[2][0]=='F')\n",
        "KSE=K.filter(lambda x:x[1][0:2]=='SE'and x[2][0]=='F')\n",
        "\n",
        "\n",
        "IDB=I.filter(lambda x:x[1][0:2]=='DB'and x[2][0]=='F')\n",
        "IOS=I.filter(lambda x:x[1][0:2]=='OS'and x[2][0]=='F')\n",
        "ISE=I.filter(lambda x:x[1][0:2]=='SE'and x[2][0]=='F')\n",
        "\n",
        "PDB=P.filter(lambda x:x[1][0:2]=='DB'and x[2][0]=='F')\n",
        "POS=P.filter(lambda x:x[1][0:2]=='OS'and x[2][0]=='F')\n",
        "PSE=P.filter(lambda x:x[1][0:2]=='SE'and x[2][0]=='F')\n",
        "\n",
        "FDB=F.filter(lambda x:x[1][0:2]=='DB'and x[2][0]=='F')\n",
        "FOS=F.filter(lambda x:x[1][0:2]=='OS'and x[2][0]=='F')\n",
        "FSE=F.filter(lambda x:x[1][0:2]=='SE'and x[2][0]=='F')\n",
        "\n",
        "\n",
        "print('Lahore')\n",
        "print('DB',LDB.count())\n",
        "print('OS',LOS.count())\n",
        "print('SE',LSE.count())\n",
        "\n",
        "print('karachi')\n",
        "print('DB',KDB.count())\n",
        "print('OS',KOS.count())\n",
        "print('SE',KSE.count())\n",
        "\n",
        "\n",
        "print('Islamabad')\n",
        "print('DB',IDB.count())\n",
        "print('OS',IOS.count())\n",
        "print('SE',ISE.count())\n",
        "\n",
        "\n",
        "print('Peshawar')\n",
        "print('DB',PDB.count())\n",
        "print('OS',POS.count())\n",
        "print('SE',PSE.count())\n",
        "\n",
        "\n",
        "print('Faislabad')\n",
        "print('DB',FDB.count())\n",
        "print('OS',FOS.count())\n",
        "print('SE',FSE.count())"
      ],
      "metadata": {
        "colab": {
          "base_uri": "https://localhost:8080/"
        },
        "id": "39bx36ZEAo-B",
        "outputId": "40d8c5f4-bc12-476d-d4fe-3ecaff9c6036"
      },
      "execution_count": 11,
      "outputs": [
        {
          "output_type": "stream",
          "name": "stdout",
          "text": [
            "Lahore\n",
            "DB 0\n",
            "OS 0\n",
            "SE 1\n",
            "karachi\n",
            "DB 0\n",
            "OS 1\n",
            "SE 1\n",
            "Islamabad\n",
            "DB 0\n",
            "OS 1\n",
            "SE 0\n",
            "Peshawar\n",
            "DB 0\n",
            "OS 0\n",
            "SE 0\n",
            "Faislabad\n",
            "DB 0\n",
            "OS 0\n",
            "SE 0\n"
          ]
        }
      ]
    },
    {
      "cell_type": "markdown",
      "source": [
        "Task 6"
      ],
      "metadata": {
        "id": "UV2oQKkLnjRQ"
      }
    },
    {
      "cell_type": "code",
      "source": [
        "errorRDD=fileRDD.distinct()\n",
        "errorRDD.collect()                                                                     "
      ],
      "metadata": {
        "id": "eYGmirhyBlPK",
        "colab": {
          "base_uri": "https://localhost:8080/"
        },
        "outputId": "edf9eb65-b862-4a6c-88b9-9b9a9ad1c0de"
      },
      "execution_count": null,
      "outputs": [
        {
          "output_type": "execute_result",
          "data": {
            "text/plain": [
              "['K21-1601 SE F',\n",
              " 'K21-1702 DS B',\n",
              " 'L22-2101 DB D',\n",
              " 'L21-1601 SE F',\n",
              " 'L21-1702 SE B',\n",
              " 'L21-1705 DB A',\n",
              " 'F21-1500 SE C',\n",
              " 'K18-1230 DB A',\n",
              " 'L22-2100 DB D',\n",
              " 'I21-1601 OS F',\n",
              " 'L21-1705 OS A',\n",
              " 'K21-1601 OS F',\n",
              " 'F20-1700 DB B',\n",
              " 'P22-2500 DS B',\n",
              " 'P21-1900 OS B']"
            ]
          },
          "metadata": {},
          "execution_count": 17
        }
      ]
    },
    {
      "cell_type": "markdown",
      "source": [
        "Task 7"
      ],
      "metadata": {
        "id": "alyayrBln51J"
      }
    },
    {
      "cell_type": "code",
      "source": [
        "DB7=fileRDD.filter(lambda x:x[1][0:2]=='DB')\n",
        "OS7=fileRDD.filter(lambda x:x[1][0:2]=='OS')\n",
        "SE7=fileRDD.filter(lambda x:x[1][0:2]=='SE')\n",
        "\n",
        "minDB7=DB7.filter(lambda x :x[2][0]=='F')\n",
        "maxDB7=DB7.filter(lambda x :x[2][0]=='A')\n",
        "\n",
        "minOS7=OS7.filter(lambda x :x[2][0]=='F')\n",
        "maxOS7=OS7.filter(lambda x :x[2][0]=='A')\n",
        "\n",
        "minSE7=SE7.filter(lambda x :x[2][0]=='F')\n",
        "maxSE7=SE7.filter(lambda x :x[2][0]=='A')\n",
        "\n",
        "\n",
        "print('Max and min in DB is:')\n",
        "print(maxDB7.collect())\n",
        "print(minDB7.collect())\n",
        "\n",
        "\n",
        "print('Max and min in OS is:')\n",
        "print(maxOS7.collect())\n",
        "print(minOS7.collect())\n",
        "\n",
        "\n",
        "print('Max and min in SE is:')\n",
        "print(maxSE7.collect())\n",
        "print(minSE7.collect())"
      ],
      "metadata": {
        "colab": {
          "base_uri": "https://localhost:8080/"
        },
        "id": "f6EXSwLun5fW",
        "outputId": "3a3bd717-351d-40fc-87bc-af015c64b0b3"
      },
      "execution_count": 12,
      "outputs": [
        {
          "output_type": "stream",
          "name": "stdout",
          "text": [
            "Max and min in DB is:\n",
            "[['L21-1705', 'DB', 'A'], ['K18-1230', 'DB', 'A']]\n",
            "[]\n",
            "Max and min in OS is:\n",
            "[['L21-1705', 'OS', 'A'], ['L21-1705', 'OS', 'A']]\n",
            "[['I21-1601', 'OS', 'F'], ['K21-1601', 'OS', 'F']]\n",
            "Max and min in SE is:\n",
            "[]\n",
            "[['K21-1601', 'SE', 'F'], ['L21-1601', 'SE', 'F']]\n"
          ]
        }
      ]
    }
  ]
}