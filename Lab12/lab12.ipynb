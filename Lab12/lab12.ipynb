{
  "nbformat": 4,
  "nbformat_minor": 0,
  "metadata": {
    "colab": {
      "provenance": []
    },
    "kernelspec": {
      "name": "python3",
      "display_name": "Python 3"
    },
    "language_info": {
      "name": "python"
    }
  },
  "cells": [
    {
      "cell_type": "code",
      "execution_count": null,
      "metadata": {
        "colab": {
          "base_uri": "https://localhost:8080/"
        },
        "id": "Qfok36KmzEQt",
        "outputId": "761d4057-5b9f-456d-b19c-813e252d8042"
      },
      "outputs": [
        {
          "output_type": "stream",
          "name": "stdout",
          "text": [
            "Looking in indexes: https://pypi.org/simple, https://us-python.pkg.dev/colab-wheels/public/simple/\n",
            "Collecting pyspark\n",
            "  Downloading pyspark-3.4.0.tar.gz (310.8 MB)\n",
            "\u001b[2K     \u001b[90m━━━━━━━━━━━━━━━━━━━━━━━━━━━━━━━━━━━━━━━\u001b[0m \u001b[32m310.8/310.8 MB\u001b[0m \u001b[31m4.1 MB/s\u001b[0m eta \u001b[36m0:00:00\u001b[0m\n",
            "\u001b[?25h  Preparing metadata (setup.py) ... \u001b[?25l\u001b[?25hdone\n",
            "Requirement already satisfied: py4j==0.10.9.7 in /usr/local/lib/python3.10/dist-packages (from pyspark) (0.10.9.7)\n",
            "Building wheels for collected packages: pyspark\n",
            "  Building wheel for pyspark (setup.py) ... \u001b[?25l\u001b[?25hdone\n",
            "  Created wheel for pyspark: filename=pyspark-3.4.0-py2.py3-none-any.whl size=311317145 sha256=564657f255ea3812fe1bcf9665ae578114bdaff35368ec2dc4b136ae48589c9a\n",
            "  Stored in directory: /root/.cache/pip/wheels/7b/1b/4b/3363a1d04368e7ff0d408e57ff57966fcdf00583774e761327\n",
            "Successfully built pyspark\n",
            "Installing collected packages: pyspark\n",
            "Successfully installed pyspark-3.4.0\n"
          ]
        }
      ],
      "source": [
        "! pip install pyspark"
      ]
    },
    {
      "cell_type": "code",
      "source": [
        "from pyspark import SparkContext, SparkConf"
      ],
      "metadata": {
        "id": "x3Uwr8P-z4nv"
      },
      "execution_count": null,
      "outputs": []
    },
    {
      "cell_type": "code",
      "source": [
        "appName=\"lab12\"\n",
        "master=\"local[*]\""
      ],
      "metadata": {
        "id": "kW7Ql2gGz4dX"
      },
      "execution_count": null,
      "outputs": []
    },
    {
      "cell_type": "code",
      "source": [
        "conf = SparkConf().setAppName(appName).setMaster(master)\n",
        "sc = SparkContext(conf=conf)"
      ],
      "metadata": {
        "id": "HidMRjEG0FS-"
      },
      "execution_count": null,
      "outputs": []
    },
    {
      "cell_type": "markdown",
      "source": [
        "Task 1"
      ],
      "metadata": {
        "id": "joHRn9KM4MVu"
      }
    },
    {
      "cell_type": "code",
      "source": [
        "rdd1=sc.textFile(\"emp1.txt\")\n",
        "rdd2=sc.textFile(\"emp2.txt\")\n",
        "rdd3 = rdd1.map(lambda word: (word.split(\",\")[0],(word.split(\",\")[1],(word.split(\",\")[2]))))\n",
        "rdd4 = rdd2.map(lambda word: (word.split(\",\")[0],(word.split(\",\")[1],(word.split(\",\")[2]))))\n",
        "sorted(rdd3.join(rdd4).collect())"
      ],
      "metadata": {
        "colab": {
          "base_uri": "https://localhost:8080/"
        },
        "id": "fAFc8TLS0FLv",
        "outputId": "c500c71a-5194-4e1a-8e68-d33147ef7ec8"
      },
      "execution_count": null,
      "outputs": [
        {
          "output_type": "execute_result",
          "data": {
            "text/plain": [
              "[('1', (('John', 'Digital Marketing'), ('50000', '2'))),\n",
              " ('10', (('Emily', 'Software Development'), ('70000', '5'))),\n",
              " ('11', (('James', 'Finance'), ('60000', '3'))),\n",
              " ('12', (('Benjamin', 'Digital Marketing'), ('45000', '1'))),\n",
              " ('13', (('Emma', 'Software Development'), ('85000', '7'))),\n",
              " ('14', (('Ava', 'Data Science'), ('75000', '4'))),\n",
              " ('15', (('Isabella', 'Human Resources'), ('70000', '2'))),\n",
              " ('16', (('Lucas', 'Finance'), ('80000', '3'))),\n",
              " ('17', (('Avery', 'Software Development'), ('55000', '1'))),\n",
              " ('18', (('Grace', 'Data Science'), ('65000', '4'))),\n",
              " ('19', (('Ethan', 'Human Resources'), ('60000', '2'))),\n",
              " ('2', (('Alice', 'Software Development'), ('65000', '5'))),\n",
              " ('20', (('Scarlett', 'Software Development'), ('70000', '3'))),\n",
              " ('21', (('Henry', 'Digital Marketing'), ('55000', '1'))),\n",
              " ('22', (('Amelia', 'Finance'), ('80000', '4'))),\n",
              " ('23', (('David', 'Software Development'), ('65000', '3'))),\n",
              " ('24', (('Chloe', 'Data Science'), ('70000', '2'))),\n",
              " ('25', (('Sebastian', 'Human Resources'), ('60000', '3'))),\n",
              " ('26', (('Samuel', 'Finance'), ('75000', '4'))),\n",
              " ('27', (('Evelyn', 'Software Development'), ('80000', '5'))),\n",
              " ('28', (('Jackson', 'Data Science'), ('85000', '6'))),\n",
              " ('29', (('Abigail', 'Digital Marketing'), ('50000', '2'))),\n",
              " ('3', (('Bob', 'Data Science'), ('70000', '3'))),\n",
              " ('30', (('Harper', 'Software Development'), ('70000', '4'))),\n",
              " ('31', (('Luna', 'Data Science'), ('55000', '1'))),\n",
              " ('32', (('William', 'Human Resources'), ('60000', '3'))),\n",
              " ('33', (('Addison', 'Finance'), ('65000', '2'))),\n",
              " ('34', (('Charlotte', 'Software Development'), ('75000', '4'))),\n",
              " ('35', (('Matthew', 'Data Science'), ('70000', '3'))),\n",
              " ('36', (('Mia', 'Human Resources'), ('60000', '2'))),\n",
              " ('37', (('Aubrey', 'Software Development'), ('55000', '1'))),\n",
              " ('38', (('Elizabeth', 'Finance'), ('80000', '4'))),\n",
              " ('39', (('Andrew', 'Data Science'), ('75000', '3'))),\n",
              " ('4', (('Charlie', 'Human Resources'), ('55000', '1'))),\n",
              " ('40', (('Sofia', 'Human Resources'), ('70000', '2'))),\n",
              " ('41', (('Grace', 'Software Development'), ('55000', '1'))),\n",
              " ('42', (('Ella', 'Data Science'), ('80000', '3'))),\n",
              " ('43', (('Daniel', 'Finance'), ('65000', '2'))),\n",
              " ('44', (('Luke', 'Software Development'), ('70000', '4'))),\n",
              " ('45', (('Victoria', 'Data Science'), ('60000', '3'))),\n",
              " ('46', (('Jack', 'Human Resources'), ('75000', '2'))),\n",
              " ('47', (('Julia', 'Software Development'), ('80000', '4'))),\n",
              " ('48', (('Jonathan', 'Finance'), ('85000', '5'))),\n",
              " ('49', (('John', 'Data Science'), ('70000', '3'))),\n",
              " ('5', (('Eve', 'Finance'), ('60000', '4'))),\n",
              " ('50', (('Emma', 'Software Development'), ('60000', '2'))),\n",
              " ('6', (('Michael', 'Software Development'), ('80000', '6'))),\n",
              " ('7', (('Olivia', 'Data Science'), ('90000', '3'))),\n",
              " ('8', (('Sophia', 'Finance'), ('75000', '2'))),\n",
              " ('9', (('Liam', 'Data Science'), ('55000', '4'))),\n",
              " ('emp_id', (('emp_name', 'emp_dept'), ('emp_salary', 'emp_experience')))]"
            ]
          },
          "metadata": {},
          "execution_count": 7
        }
      ]
    },
    {
      "cell_type": "markdown",
      "source": [
        "Task 2"
      ],
      "metadata": {
        "id": "PxwB3mnW4RM8"
      }
    },
    {
      "cell_type": "code",
      "source": [
        "rdd5=sorted(rdd3.leftOuterJoin(rdd4).collect())\n",
        "rdd5"
      ],
      "metadata": {
        "colab": {
          "base_uri": "https://localhost:8080/"
        },
        "id": "6cKfpeEz5pSG",
        "outputId": "df599530-78c9-498b-e09d-b65b4ef0d423"
      },
      "execution_count": null,
      "outputs": [
        {
          "output_type": "execute_result",
          "data": {
            "text/plain": [
              "[('1', (('John', 'Digital Marketing'), ('50000', '2'))),\n",
              " ('10', (('Emily', 'Software Development'), ('70000', '5'))),\n",
              " ('11', (('James', 'Finance'), ('60000', '3'))),\n",
              " ('12', (('Benjamin', 'Digital Marketing'), ('45000', '1'))),\n",
              " ('13', (('Emma', 'Software Development'), ('85000', '7'))),\n",
              " ('14', (('Ava', 'Data Science'), ('75000', '4'))),\n",
              " ('15', (('Isabella', 'Human Resources'), ('70000', '2'))),\n",
              " ('16', (('Lucas', 'Finance'), ('80000', '3'))),\n",
              " ('17', (('Avery', 'Software Development'), ('55000', '1'))),\n",
              " ('18', (('Grace', 'Data Science'), ('65000', '4'))),\n",
              " ('19', (('Ethan', 'Human Resources'), ('60000', '2'))),\n",
              " ('2', (('Alice', 'Software Development'), ('65000', '5'))),\n",
              " ('20', (('Scarlett', 'Software Development'), ('70000', '3'))),\n",
              " ('21', (('Henry', 'Digital Marketing'), ('55000', '1'))),\n",
              " ('22', (('Amelia', 'Finance'), ('80000', '4'))),\n",
              " ('23', (('David', 'Software Development'), ('65000', '3'))),\n",
              " ('24', (('Chloe', 'Data Science'), ('70000', '2'))),\n",
              " ('25', (('Sebastian', 'Human Resources'), ('60000', '3'))),\n",
              " ('26', (('Samuel', 'Finance'), ('75000', '4'))),\n",
              " ('27', (('Evelyn', 'Software Development'), ('80000', '5'))),\n",
              " ('28', (('Jackson', 'Data Science'), ('85000', '6'))),\n",
              " ('29', (('Abigail', 'Digital Marketing'), ('50000', '2'))),\n",
              " ('3', (('Bob', 'Data Science'), ('70000', '3'))),\n",
              " ('30', (('Harper', 'Software Development'), ('70000', '4'))),\n",
              " ('31', (('Luna', 'Data Science'), ('55000', '1'))),\n",
              " ('32', (('William', 'Human Resources'), ('60000', '3'))),\n",
              " ('33', (('Addison', 'Finance'), ('65000', '2'))),\n",
              " ('34', (('Charlotte', 'Software Development'), ('75000', '4'))),\n",
              " ('35', (('Matthew', 'Data Science'), ('70000', '3'))),\n",
              " ('36', (('Mia', 'Human Resources'), ('60000', '2'))),\n",
              " ('37', (('Aubrey', 'Software Development'), ('55000', '1'))),\n",
              " ('38', (('Elizabeth', 'Finance'), ('80000', '4'))),\n",
              " ('39', (('Andrew', 'Data Science'), ('75000', '3'))),\n",
              " ('4', (('Charlie', 'Human Resources'), ('55000', '1'))),\n",
              " ('40', (('Sofia', 'Human Resources'), ('70000', '2'))),\n",
              " ('41', (('Grace', 'Software Development'), ('55000', '1'))),\n",
              " ('42', (('Ella', 'Data Science'), ('80000', '3'))),\n",
              " ('43', (('Daniel', 'Finance'), ('65000', '2'))),\n",
              " ('44', (('Luke', 'Software Development'), ('70000', '4'))),\n",
              " ('45', (('Victoria', 'Data Science'), ('60000', '3'))),\n",
              " ('46', (('Jack', 'Human Resources'), ('75000', '2'))),\n",
              " ('47', (('Julia', 'Software Development'), ('80000', '4'))),\n",
              " ('48', (('Jonathan', 'Finance'), ('85000', '5'))),\n",
              " ('49', (('John', 'Data Science'), ('70000', '3'))),\n",
              " ('5', (('Eve', 'Finance'), ('60000', '4'))),\n",
              " ('50', (('Emma', 'Software Development'), ('60000', '2'))),\n",
              " ('6', (('Michael', 'Software Development'), ('80000', '6'))),\n",
              " ('7', (('Olivia', 'Data Science'), ('90000', '3'))),\n",
              " ('8', (('Sophia', 'Finance'), ('75000', '2'))),\n",
              " ('9', (('Liam', 'Data Science'), ('55000', '4'))),\n",
              " ('emp_id', (('emp_name', 'emp_dept'), ('emp_salary', 'emp_experience')))]"
            ]
          },
          "metadata": {},
          "execution_count": 8
        }
      ]
    },
    {
      "cell_type": "markdown",
      "source": [
        "TASK 4"
      ],
      "metadata": {
        "id": "nDPahhO94UrF"
      }
    },
    {
      "cell_type": "code",
      "source": [
        "rdd2=sc.textFile(\"emp2.txt\")\n",
        "rdd4 = rdd2.map(lambda word: (word.split(\",\")[0],(word.split(\",\")[1])))\n",
        "rdd4.collect()"
      ],
      "metadata": {
        "colab": {
          "base_uri": "https://localhost:8080/"
        },
        "id": "Ssz-nem4LSs9",
        "outputId": "99e033f1-dc3f-4825-d114-0e81a16b2051"
      },
      "execution_count": null,
      "outputs": [
        {
          "output_type": "execute_result",
          "data": {
            "text/plain": [
              "[('emp_id', 'emp_salary'),\n",
              " ('1', '50000'),\n",
              " ('2', '65000'),\n",
              " ('3', '70000'),\n",
              " ('4', '55000'),\n",
              " ('5', '60000'),\n",
              " ('6', '80000'),\n",
              " ('7', '90000'),\n",
              " ('8', '75000'),\n",
              " ('9', '55000'),\n",
              " ('10', '70000'),\n",
              " ('11', '60000'),\n",
              " ('12', '45000'),\n",
              " ('13', '85000'),\n",
              " ('14', '75000'),\n",
              " ('15', '70000'),\n",
              " ('16', '80000'),\n",
              " ('17', '55000'),\n",
              " ('18', '65000'),\n",
              " ('19', '60000'),\n",
              " ('20', '70000'),\n",
              " ('21', '55000'),\n",
              " ('22', '80000'),\n",
              " ('23', '65000'),\n",
              " ('24', '70000'),\n",
              " ('25', '60000'),\n",
              " ('26', '75000'),\n",
              " ('27', '80000'),\n",
              " ('28', '85000'),\n",
              " ('29', '50000'),\n",
              " ('30', '70000'),\n",
              " ('31', '55000'),\n",
              " ('32', '60000'),\n",
              " ('33', '65000'),\n",
              " ('34', '75000'),\n",
              " ('35', '70000'),\n",
              " ('36', '60000'),\n",
              " ('37', '55000'),\n",
              " ('38', '80000'),\n",
              " ('39', '75000'),\n",
              " ('40', '70000'),\n",
              " ('41', '55000'),\n",
              " ('42', '80000'),\n",
              " ('43', '65000'),\n",
              " ('44', '70000'),\n",
              " ('45', '60000'),\n",
              " ('46', '75000'),\n",
              " ('47', '80000'),\n",
              " ('48', '85000'),\n",
              " ('49', '70000'),\n",
              " ('50', '60000')]"
            ]
          },
          "metadata": {},
          "execution_count": 24
        }
      ]
    },
    {
      "cell_type": "markdown",
      "source": [
        "Task 5"
      ],
      "metadata": {
        "id": "ltpzyfeU4YVQ"
      }
    },
    {
      "cell_type": "code",
      "source": [
        "rdd11 = rdd1.map(lambda x: x.split(','))\n",
        "rdd22 = rdd2.map(lambda x: x.split(','))\n",
        "rdd12=rdd11.filter(lambda x:x[0][0])\n",
        "rdd21=rdd22.filter(lambda x:x[0][0])\n",
        "rdd6=rdd21.join(rdd12)\n",
        "rdd7=rdd6.map(lambda x:x[1:3])\n",
        "rdd7.collect()"
      ],
      "metadata": {
        "colab": {
          "base_uri": "https://localhost:8080/"
        },
        "id": "yaFHQ239zv06",
        "outputId": "a3605ea6-acf2-4309-d2ad-1a6a80654eae"
      },
      "execution_count": null,
      "outputs": [
        {
          "output_type": "execute_result",
          "data": {
            "text/plain": [
              "[(('55000', 'Charlie'),),\n",
              " (('70000', 'Emily'),),\n",
              " (('45000', 'Benjamin'),),\n",
              " (('80000', 'Lucas'),),\n",
              " (('70000', 'Scarlett'),),\n",
              " (('70000', 'Chloe'),),\n",
              " (('75000', 'Samuel'),),\n",
              " (('70000', 'Sofia'),),\n",
              " (('70000', 'Luke'),),\n",
              " (('60000', 'Emma'),),\n",
              " (('emp_salary', 'emp_name'),),\n",
              " (('70000', 'Bob'),),\n",
              " (('80000', 'Michael'),),\n",
              " (('90000', 'Olivia'),),\n",
              " (('70000', 'Isabella'),),\n",
              " (('65000', 'Grace'),),\n",
              " (('65000', 'David'),),\n",
              " (('60000', 'Sebastian'),),\n",
              " (('70000', 'Harper'),),\n",
              " (('55000', 'Luna'),),\n",
              " (('60000', 'William'),),\n",
              " (('60000', 'Mia'),),\n",
              " (('80000', 'Ella'),),\n",
              " (('65000', 'Daniel'),),\n",
              " (('80000', 'Julia'),),\n",
              " (('70000', 'John'),),\n",
              " (('50000', 'John'),),\n",
              " (('75000', 'Sophia'),),\n",
              " (('55000', 'Liam'),),\n",
              " (('75000', 'Ava'),),\n",
              " (('55000', 'Avery'),),\n",
              " (('60000', 'Ethan'),),\n",
              " (('55000', 'Henry'),),\n",
              " (('80000', 'Amelia'),),\n",
              " (('50000', 'Abigail'),),\n",
              " (('65000', 'Addison'),),\n",
              " (('75000', 'Charlotte'),),\n",
              " (('60000', 'Victoria'),),\n",
              " (('85000', 'Jonathan'),),\n",
              " (('65000', 'Alice'),),\n",
              " (('60000', 'Eve'),),\n",
              " (('60000', 'James'),),\n",
              " (('85000', 'Emma'),),\n",
              " (('80000', 'Evelyn'),),\n",
              " (('85000', 'Jackson'),),\n",
              " (('70000', 'Matthew'),),\n",
              " (('55000', 'Aubrey'),),\n",
              " (('80000', 'Elizabeth'),),\n",
              " (('75000', 'Andrew'),),\n",
              " (('55000', 'Grace'),),\n",
              " (('75000', 'Jack'),)]"
            ]
          },
          "metadata": {},
          "execution_count": 21
        }
      ]
    },
    {
      "cell_type": "markdown",
      "source": [
        "Task 6"
      ],
      "metadata": {
        "id": "5sCw2Bn24bR5"
      }
    },
    {
      "cell_type": "code",
      "source": [
        "rdd8 = rdd11.map(lambda x: (x[0], x[1],x[2]))\n",
        "nodepart=rdd8.intersection(rdd8)\n",
        "sorted(nodepart.collect())"
      ],
      "metadata": {
        "colab": {
          "base_uri": "https://localhost:8080/"
        },
        "id": "brPM3ugD08a6",
        "outputId": "543e44b3-ceb2-471f-d4a1-d5ca46df0d1e"
      },
      "execution_count": null,
      "outputs": [
        {
          "output_type": "execute_result",
          "data": {
            "text/plain": [
              "[('1', 'John', 'Digital Marketing'),\n",
              " ('10', 'Emily', 'Software Development'),\n",
              " ('11', 'James', 'Finance'),\n",
              " ('12', 'Benjamin', 'Digital Marketing'),\n",
              " ('13', 'Emma', 'Software Development'),\n",
              " ('14', 'Ava', 'Data Science'),\n",
              " ('15', 'Isabella', 'Human Resources'),\n",
              " ('16', 'Lucas', 'Finance'),\n",
              " ('17', 'Avery', 'Software Development'),\n",
              " ('18', 'Grace', 'Data Science'),\n",
              " ('19', 'Ethan', 'Human Resources'),\n",
              " ('2', 'Alice', 'Software Development'),\n",
              " ('20', 'Scarlett', 'Software Development'),\n",
              " ('21', 'Henry', 'Digital Marketing'),\n",
              " ('22', 'Amelia', 'Finance'),\n",
              " ('23', 'David', 'Software Development'),\n",
              " ('24', 'Chloe', 'Data Science'),\n",
              " ('25', 'Sebastian', 'Human Resources'),\n",
              " ('26', 'Samuel', 'Finance'),\n",
              " ('27', 'Evelyn', 'Software Development'),\n",
              " ('28', 'Jackson', 'Data Science'),\n",
              " ('29', 'Abigail', 'Digital Marketing'),\n",
              " ('3', 'Bob', 'Data Science'),\n",
              " ('30', 'Harper', 'Software Development'),\n",
              " ('31', 'Luna', 'Data Science'),\n",
              " ('32', 'William', 'Human Resources'),\n",
              " ('33', 'Addison', 'Finance'),\n",
              " ('34', 'Charlotte', 'Software Development'),\n",
              " ('35', 'Matthew', 'Data Science'),\n",
              " ('36', 'Mia', 'Human Resources'),\n",
              " ('37', 'Aubrey', 'Software Development'),\n",
              " ('38', 'Elizabeth', 'Finance'),\n",
              " ('39', 'Andrew', 'Data Science'),\n",
              " ('4', 'Charlie', 'Human Resources'),\n",
              " ('40', 'Sofia', 'Human Resources'),\n",
              " ('41', 'Grace', 'Software Development'),\n",
              " ('42', 'Ella', 'Data Science'),\n",
              " ('43', 'Daniel', 'Finance'),\n",
              " ('44', 'Luke', 'Software Development'),\n",
              " ('45', 'Victoria', 'Data Science'),\n",
              " ('46', 'Jack', 'Human Resources'),\n",
              " ('47', 'Julia', 'Software Development'),\n",
              " ('48', 'Jonathan', 'Finance'),\n",
              " ('49', 'John', 'Data Science'),\n",
              " ('5', 'Eve', 'Finance'),\n",
              " ('50', 'Emma', 'Software Development'),\n",
              " ('6', 'Michael', 'Software Development'),\n",
              " ('7', 'Olivia', 'Data Science'),\n",
              " ('8', 'Sophia', 'Finance'),\n",
              " ('9', 'Liam', 'Data Science'),\n",
              " ('emp_id', 'emp_name', 'emp_dept')]"
            ]
          },
          "metadata": {},
          "execution_count": 22
        }
      ]
    },
    {
      "cell_type": "markdown",
      "source": [
        "Task 7"
      ],
      "metadata": {
        "id": "TMpzqtie4eav"
      }
    },
    {
      "cell_type": "code",
      "source": [
        "from pyspark.sql import SparkSession\n",
        "\n",
        "spark = SparkSession.builder.appName(\"BroadcastJoinExample\").getOrCreate()\n",
        "\n",
        "\n",
        "rdd1= spark.sparkContext.parallelize([(6290, \"zamna\"), (6284, \"laiba\"), (5644, \"naba\"), (7691, \"rabiya\")])\n",
        "rdd2= spark.sparkContext.parallelize([(6290, 22), (6284, 19), (5644, 20), (7691, 17)])\n",
        "\n",
        "broadcast_names = spark.sparkContext.broadcast(rdd1.collect())\n",
        "\n",
        "result = rdd2.join(rdd1)\n",
        "\n",
        "\n",
        "result.collect()"
      ],
      "metadata": {
        "colab": {
          "base_uri": "https://localhost:8080/"
        },
        "id": "tQCZ9HsH08VJ",
        "outputId": "8866ad72-2587-41b5-e4a7-bfe0811fce88"
      },
      "execution_count": null,
      "outputs": [
        {
          "output_type": "execute_result",
          "data": {
            "text/plain": [
              "[(6284, (19, 'laiba')),\n",
              " (5644, (20, 'naba')),\n",
              " (6290, (22, 'zamna')),\n",
              " (7691, (17, 'rabiya'))]"
            ]
          },
          "metadata": {},
          "execution_count": 23
        }
      ]
    },
    {
      "cell_type": "markdown",
      "source": [
        "Task 8"
      ],
      "metadata": {
        "id": "FZK0gXfz4g-I"
      }
    },
    {
      "cell_type": "code",
      "source": [
        "from pyspark import SparkContext\n",
        "num=sc.accumulator(0)\n",
        "def f(x):\n",
        "  global num\n",
        "  num+=x\n",
        "\n",
        "rdd=sc.parallelize([0,1,2,3,4,5,6,7,8,9,10])\n",
        "rdd.foreach(f)\n",
        "\n",
        "final=num.value\n",
        "print(\"Accumulated value is ->\",(final))"
      ],
      "metadata": {
        "colab": {
          "base_uri": "https://localhost:8080/"
        },
        "id": "s1fchkof29R4",
        "outputId": "adf67288-1e3e-4a3e-adeb-f40c2b1eea46"
      },
      "execution_count": null,
      "outputs": [
        {
          "output_type": "stream",
          "name": "stdout",
          "text": [
            "Accumulated value is -> 55\n"
          ]
        }
      ]
    }
  ]
}