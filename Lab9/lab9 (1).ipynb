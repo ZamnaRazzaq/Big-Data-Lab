{
  "nbformat": 4,
  "nbformat_minor": 0,
  "metadata": {
    "colab": {
      "provenance": []
    },
    "kernelspec": {
      "name": "python3",
      "display_name": "Python 3"
    },
    "language_info": {
      "name": "python"
    }
  },
  "cells": [
    {
      "cell_type": "code",
      "execution_count": null,
      "metadata": {
        "colab": {
          "base_uri": "https://localhost:8080/"
        },
        "id": "0e2Gu86TyRj7",
        "outputId": "c1b0af0c-59c3-40ac-c2a2-8ff21859a01a"
      },
      "outputs": [
        {
          "output_type": "stream",
          "name": "stdout",
          "text": [
            "Looking in indexes: https://pypi.org/simple, https://us-python.pkg.dev/colab-wheels/public/simple/\n",
            "Requirement already satisfied: pyspark in /usr/local/lib/python3.9/dist-packages (3.3.2)\n",
            "Requirement already satisfied: py4j==0.10.9.5 in /usr/local/lib/python3.9/dist-packages (from pyspark) (0.10.9.5)\n"
          ]
        }
      ],
      "source": [
        "! pip install pyspark"
      ]
    },
    {
      "cell_type": "code",
      "source": [
        "from pyspark import SparkContext, SparkConf"
      ],
      "metadata": {
        "id": "wPVBRULzyo0u"
      },
      "execution_count": null,
      "outputs": []
    },
    {
      "cell_type": "code",
      "source": [
        "appName=\"lab9\"\n",
        "master=\"local[*]\""
      ],
      "metadata": {
        "id": "5Bo0SCbi8XnA"
      },
      "execution_count": null,
      "outputs": []
    },
    {
      "cell_type": "code",
      "source": [
        "conf = SparkConf().setAppName(appName).setMaster(master)\n",
        "sc = SparkContext(conf=conf)"
      ],
      "metadata": {
        "id": "ZBZ4-TXVyops"
      },
      "execution_count": null,
      "outputs": []
    },
    {
      "cell_type": "markdown",
      "source": [
        "Task 1"
      ],
      "metadata": {
        "id": "gtxAJXu69YgT"
      }
    },
    {
      "cell_type": "code",
      "source": [
        "my_list = [1, 2, 3, 4, 5, 6, 7, 8, 9, 10]\n",
        "list(map(lambda x: x**2 , my_list))"
      ],
      "metadata": {
        "colab": {
          "base_uri": "https://localhost:8080/"
        },
        "id": "ksi1Gta_81mm",
        "outputId": "f62a0fde-9205-48ae-94f9-755501dfba57"
      },
      "execution_count": null,
      "outputs": [
        {
          "output_type": "execute_result",
          "data": {
            "text/plain": [
              "[1, 4, 9, 16, 25, 36, 49, 64, 81, 100]"
            ]
          },
          "metadata": {},
          "execution_count": 6
        }
      ]
    },
    {
      "cell_type": "markdown",
      "source": [
        "Task 2"
      ],
      "metadata": {
        "id": "pZgQ1YzK9aQd"
      }
    },
    {
      "cell_type": "code",
      "source": [
        "import random\n",
        "my_list2= random.sample(range(0,100),20)\n",
        "list(filter(lambda x: (x%5 == 0), my_list2))"
      ],
      "metadata": {
        "colab": {
          "base_uri": "https://localhost:8080/"
        },
        "id": "-X-aYYhG81XC",
        "outputId": "d62989e4-aec9-48c3-ffd0-c7975b715a51"
      },
      "execution_count": null,
      "outputs": [
        {
          "output_type": "execute_result",
          "data": {
            "text/plain": [
              "[5, 50, 65, 40]"
            ]
          },
          "metadata": {},
          "execution_count": 9
        }
      ]
    },
    {
      "cell_type": "markdown",
      "source": [
        "Task 3"
      ],
      "metadata": {
        "id": "Z5jnKlsG-WC1"
      }
    },
    {
      "cell_type": "code",
      "source": [
        "RDD = sc.parallelize(\"Hello world\")\n",
        "type(RDD)\n",
        "print(RDD)"
      ],
      "metadata": {
        "colab": {
          "base_uri": "https://localhost:8080/"
        },
        "id": "TcTSSpHR-VkJ",
        "outputId": "4b35d4ae-a2bf-451f-9f65-1bf00e8a24f5"
      },
      "execution_count": null,
      "outputs": [
        {
          "output_type": "stream",
          "name": "stdout",
          "text": [
            "ParallelCollectionRDD[1] at readRDDFromFile at PythonRDD.scala:274\n"
          ]
        }
      ]
    },
    {
      "cell_type": "markdown",
      "source": [
        "Task 4"
      ],
      "metadata": {
        "id": "LjlXwnHk-3N5"
      }
    },
    {
      "cell_type": "code",
      "source": [
        "fileRDD=sc.textFile(\"inputFile.txt\")\n",
        "type(fileRDD)"
      ],
      "metadata": {
        "colab": {
          "base_uri": "https://localhost:8080/"
        },
        "id": "_CF_gQH3-2qy",
        "outputId": "d1fbf342-dac6-46dc-9d42-1b03510f2835"
      },
      "execution_count": null,
      "outputs": [
        {
          "output_type": "execute_result",
          "data": {
            "text/plain": [
              "pyspark.rdd.RDD"
            ]
          },
          "metadata": {},
          "execution_count": 12
        }
      ]
    },
    {
      "cell_type": "markdown",
      "source": [
        "Task 5"
      ],
      "metadata": {
        "id": "XyiVs8nm_g4L"
      }
    },
    {
      "cell_type": "code",
      "source": [
        "fileRDD_part= sc.textFile(\"inputFile.txt\", minPartitions = 5)\n",
        "fileRDD_part.getNumPartitions()"
      ],
      "metadata": {
        "colab": {
          "base_uri": "https://localhost:8080/"
        },
        "id": "dUOD_2xD-2hL",
        "outputId": "67e1289e-40ee-45bd-a9de-42d50ffe34c5"
      },
      "execution_count": null,
      "outputs": [
        {
          "output_type": "execute_result",
          "data": {
            "text/plain": [
              "5"
            ]
          },
          "metadata": {},
          "execution_count": 13
        }
      ]
    },
    {
      "cell_type": "markdown",
      "source": [
        "Task 6"
      ],
      "metadata": {
        "id": "KNKF3KGe_3s2"
      }
    },
    {
      "cell_type": "code",
      "source": [
        "numbRDD = sc.parallelize([1,2,3,4])\n",
        "numbers_all= numbRDD.map(lambda x: x **3)\n",
        "numbers_all.collect()"
      ],
      "metadata": {
        "colab": {
          "base_uri": "https://localhost:8080/"
        },
        "id": "sx70JFXv_3Yq",
        "outputId": "362caeca-c712-495a-d3a9-fb3e2e2726b7"
      },
      "execution_count": null,
      "outputs": [
        {
          "output_type": "execute_result",
          "data": {
            "text/plain": [
              "[1, 8, 27, 64]"
            ]
          },
          "metadata": {},
          "execution_count": 14
        }
      ]
    },
    {
      "cell_type": "markdown",
      "source": [
        "Task 7"
      ],
      "metadata": {
        "id": "Uny_WcxeASJ6"
      }
    },
    {
      "cell_type": "code",
      "source": [
        "inputRDD = sc.textFile(\"inputFile.txt\")\n",
        "errorRDD = inputRDD.filter(lambda x: \"beautiful\" in x.split())\n",
        "errorRDD.take(4)"
      ],
      "metadata": {
        "colab": {
          "base_uri": "https://localhost:8080/"
        },
        "id": "zVKa-5jY_3O2",
        "outputId": "cafe2148-87b0-44c6-d47a-f838c77084be"
      },
      "execution_count": null,
      "outputs": [
        {
          "output_type": "execute_result",
          "data": {
            "text/plain": [
              "['people are not as beautiful as they look, ',\n",
              " 'they are only as beautiful  as they love, ']"
            ]
          },
          "metadata": {},
          "execution_count": 16
        }
      ]
    },
    {
      "cell_type": "markdown",
      "source": [
        "Task 8"
      ],
      "metadata": {
        "id": "tw4yeq85A8vK"
      }
    },
    {
      "cell_type": "code",
      "source": [
        "RDD = sc.parallelize([\"hello world\", \"how are you\"])\n",
        "RDD_flatmap = RDD.flatMap(lambda x: x.split(\" \"))\n",
        "RDD_flatmap.collect()"
      ],
      "metadata": {
        "colab": {
          "base_uri": "https://localhost:8080/"
        },
        "id": "aFbZTCDS_3FB",
        "outputId": "e138fb34-a523-491a-d341-4b97ce3d255f"
      },
      "execution_count": null,
      "outputs": [
        {
          "output_type": "execute_result",
          "data": {
            "text/plain": [
              "['hello', 'world', 'how', 'are', 'you']"
            ]
          },
          "metadata": {},
          "execution_count": 17
        }
      ]
    },
    {
      "cell_type": "markdown",
      "source": [
        "Task 9"
      ],
      "metadata": {
        "id": "7_sUPo_LA_C8"
      }
    },
    {
      "cell_type": "code",
      "source": [
        "randlist = random.sample(range(0,100),10)\n",
        "numbRDD=sc.parallelize(randlist)\n",
        "numbRDD.max()"
      ],
      "metadata": {
        "colab": {
          "base_uri": "https://localhost:8080/"
        },
        "id": "CRDJ_1RiA8Im",
        "outputId": "63370fec-9eda-416d-a732-17efd1cb7261"
      },
      "execution_count": null,
      "outputs": [
        {
          "output_type": "execute_result",
          "data": {
            "text/plain": [
              "96"
            ]
          },
          "metadata": {},
          "execution_count": 18
        }
      ]
    },
    {
      "cell_type": "markdown",
      "source": [
        "Task 10"
      ],
      "metadata": {
        "id": "N7dP-qvmCBJE"
      }
    },
    {
      "cell_type": "code",
      "source": [
        "RDD1 = sc.parallelize([\"hello\",'World'])\n",
        "RDD2=sc.parallelize([ \"hello\",'earth'])\n",
        "RDD1 = RDD1.filter(lambda x: x.split(\" \"))\n",
        "RDD2 =RDD2.filter(lambda x:  x.split(\" \"))\n",
        "RDD3 = RDD1.intersection(RDD2)\n",
        "RDD3.collect()"
      ],
      "metadata": {
        "colab": {
          "base_uri": "https://localhost:8080/"
        },
        "id": "SEQVeTfiA7_j",
        "outputId": "d0a161b9-8034-4961-a7aa-5d7ef05e9ad3"
      },
      "execution_count": null,
      "outputs": [
        {
          "output_type": "execute_result",
          "data": {
            "text/plain": [
              "['hello']"
            ]
          },
          "metadata": {},
          "execution_count": 19
        }
      ]
    }
  ]
}