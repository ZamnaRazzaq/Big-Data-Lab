{
  "nbformat": 4,
  "nbformat_minor": 0,
  "metadata": {
    "colab": {
      "provenance": []
    },
    "kernelspec": {
      "name": "python3",
      "display_name": "Python 3"
    },
    "language_info": {
      "name": "python"
    }
  },
  "cells": [
    {
      "cell_type": "code",
      "execution_count": 3,
      "metadata": {
        "colab": {
          "base_uri": "https://localhost:8080/"
        },
        "id": "Qy5Ixa3lnCSz",
        "outputId": "0af9a5a2-4c5f-4e5a-d5fd-ee9a263addfb"
      },
      "outputs": [
        {
          "output_type": "stream",
          "name": "stdout",
          "text": [
            "Looking in indexes: https://pypi.org/simple, https://us-python.pkg.dev/colab-wheels/public/simple/\n",
            "Requirement already satisfied: mrjob in /usr/local/lib/python3.9/dist-packages (0.7.4)\n",
            "Requirement already satisfied: PyYAML>=3.10 in /usr/local/lib/python3.9/dist-packages (from mrjob) (6.0)\n"
          ]
        }
      ],
      "source": [
        "pip install mrjob"
      ]
    },
    {
      "cell_type": "markdown",
      "source": [
        "Task 1"
      ],
      "metadata": {
        "id": "wlgeyBii0YjB"
      }
    },
    {
      "cell_type": "code",
      "source": [
        "%%file countf.py\n",
        "from mrjob.job import MRJob\n",
        "\n",
        "class Count(MRJob):\n",
        "    \n",
        "    def mapper(self, _, line):\n",
        "      course,rollno,grade= line.split(' ')\n",
        "      campus=rollno[0]\n",
        "      if grade=='F':\n",
        "        yield (campus,grade),1\n",
        "\n",
        "    def reducer(self, key, values):\n",
        "      total= sum(values)\n",
        "      yield key,total\n",
        "\n",
        "if __name__ == '__main__':\n",
        "    Count.run()"
      ],
      "metadata": {
        "colab": {
          "base_uri": "https://localhost:8080/"
        },
        "id": "_r28sEfMpcfr",
        "outputId": "dbcaaee4-c756-4f0b-e001-6f4f6f2ca4a0"
      },
      "execution_count": 6,
      "outputs": [
        {
          "output_type": "stream",
          "name": "stdout",
          "text": [
            "Overwriting countf.py\n"
          ]
        }
      ]
    },
    {
      "cell_type": "code",
      "source": [
        "! python \"countf.py\" \"file.txt\""
      ],
      "metadata": {
        "colab": {
          "base_uri": "https://localhost:8080/"
        },
        "id": "eerJ7dfer8DO",
        "outputId": "19b5a4c2-002a-472b-f0b7-f421fdabc03e"
      },
      "execution_count": 7,
      "outputs": [
        {
          "output_type": "stream",
          "name": "stdout",
          "text": [
            "No configs found; falling back on auto-configuration\n",
            "No configs specified for inline runner\n",
            "Creating temp directory /tmp/countf.root.20230405.050837.913306\n",
            "Running step 1 of 1...\n",
            "job output is in /tmp/countf.root.20230405.050837.913306/output\n",
            "Streaming final output from /tmp/countf.root.20230405.050837.913306/output...\n",
            "[\"P\", \"F\"]\t2\n",
            "[\"I\", \"F\"]\t3\n",
            "Removing temp directory /tmp/countf.root.20230405.050837.913306...\n"
          ]
        }
      ]
    },
    {
      "cell_type": "markdown",
      "source": [
        "Task 2"
      ],
      "metadata": {
        "id": "LEI2ezOs2CSs"
      }
    },
    {
      "cell_type": "code",
      "source": [
        "%%file countstudents.py\n",
        "from mrjob.job import MRJob\n",
        "\n",
        "class Count(MRJob):\n",
        "    \n",
        "    def mapper(self, _, line):\n",
        "      course,rollno,grade= line.split(' ')\n",
        "      campus=rollno[0]\n",
        "      yield (campus),1\n",
        "\n",
        "    def reducer(self, key, values):\n",
        "      total= sum(values)\n",
        "      yield key,total\n",
        "\n",
        "if __name__ == '__main__':\n",
        "    Count.run()"
      ],
      "metadata": {
        "colab": {
          "base_uri": "https://localhost:8080/"
        },
        "id": "dtCiGyop0joa",
        "outputId": "75840c04-65e5-4191-9339-3fbb2d4d90f6"
      },
      "execution_count": 8,
      "outputs": [
        {
          "output_type": "stream",
          "name": "stdout",
          "text": [
            "Writing countstudents.py\n"
          ]
        }
      ]
    },
    {
      "cell_type": "code",
      "source": [
        "! python \"countstudents.py\" \"file.txt\""
      ],
      "metadata": {
        "colab": {
          "base_uri": "https://localhost:8080/"
        },
        "id": "w1guKIdv1pgB",
        "outputId": "f91bec83-621f-4f0b-ac93-3af4525d2638"
      },
      "execution_count": 9,
      "outputs": [
        {
          "output_type": "stream",
          "name": "stdout",
          "text": [
            "No configs found; falling back on auto-configuration\n",
            "No configs specified for inline runner\n",
            "Creating temp directory /tmp/countstudents.root.20230405.051459.521654\n",
            "Running step 1 of 1...\n",
            "job output is in /tmp/countstudents.root.20230405.051459.521654/output\n",
            "Streaming final output from /tmp/countstudents.root.20230405.051459.521654/output...\n",
            "\"K\"\t1\n",
            "\"L\"\t3\n",
            "\"P\"\t5\n",
            "\"I\"\t3\n",
            "Removing temp directory /tmp/countstudents.root.20230405.051459.521654...\n"
          ]
        }
      ]
    },
    {
      "cell_type": "markdown",
      "source": [
        "Task 3"
      ],
      "metadata": {
        "id": "5-YsX42f2JDa"
      }
    },
    {
      "cell_type": "code",
      "source": [
        "%%file count1.py\n",
        "from mrjob.job import MRJob\n",
        "\n",
        "class Count(MRJob):\n",
        "    \n",
        "    def mapper(self, _, line):\n",
        "      course,rollno,grade= line.split(' ')\n",
        "      campus=rollno[0]\n",
        "      yield (rollno,grade,course),1\n",
        "\n",
        "    def reducer(self, key, values):\n",
        "      rollno=key\n",
        "      total= sum(values)\n",
        "      if total>1:\n",
        "       yield rollno,\"duplicate\"\n",
        "      else:\n",
        "        yield rollno,\"null\" \n",
        "\n",
        "if __name__ == '__main__':\n",
        "    Count.run()"
      ],
      "metadata": {
        "colab": {
          "base_uri": "https://localhost:8080/"
        },
        "id": "XA7mucUX2G0y",
        "outputId": "4ec59384-6f1d-4998-f15b-66cf94f92bcf"
      },
      "execution_count": 10,
      "outputs": [
        {
          "output_type": "stream",
          "name": "stdout",
          "text": [
            "Writing count1.py\n"
          ]
        }
      ]
    },
    {
      "cell_type": "code",
      "source": [
        "!python count1.py file.txt"
      ],
      "metadata": {
        "colab": {
          "base_uri": "https://localhost:8080/"
        },
        "id": "-AqbV8hl2KOr",
        "outputId": "f3a3001b-9b48-42e5-95a9-de3f5e05ed06"
      },
      "execution_count": 11,
      "outputs": [
        {
          "output_type": "stream",
          "name": "stdout",
          "text": [
            "No configs found; falling back on auto-configuration\n",
            "No configs specified for inline runner\n",
            "Creating temp directory /tmp/count1.root.20230405.053653.032353\n",
            "Running step 1 of 1...\n",
            "job output is in /tmp/count1.root.20230405.053653.032353/output\n",
            "Streaming final output from /tmp/count1.root.20230405.053653.032353/output...\n",
            "[\"K21-6290\", \"A\", \"DS\"]\t\"null\"\n",
            "[\"L21-2349\", \"C\", \"DS\"]\t\"duplicate\"\n",
            "[\"L22-3520\", \"B\", \"DS\"]\t\"null\"\n",
            "[\"P20-1234\", \"F\", \"DB\"]\t\"duplicate\"\n",
            "[\"I21-7722\", \"F\", \"SE\"]\t\"duplicate\"\n",
            "[\"I22-9876\", \"F\", \"SE\"]\t\"null\"\n",
            "[\"P21-2212\", \"B\", \"DB\"]\t\"duplicate\"\n",
            "[\"P21-5678\", \"A\", \"CE\"]\t\"null\"\n",
            "Removing temp directory /tmp/count1.root.20230405.053653.032353...\n"
          ]
        }
      ]
    }
  ]
}