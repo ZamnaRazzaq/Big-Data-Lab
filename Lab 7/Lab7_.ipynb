{
  "nbformat": 4,
  "nbformat_minor": 0,
  "metadata": {
    "colab": {
      "provenance": []
    },
    "kernelspec": {
      "name": "python3",
      "display_name": "Python 3"
    },
    "language_info": {
      "name": "python"
    }
  },
  "cells": [
    {
      "cell_type": "markdown",
      "source": [
        "QUESTION 1"
      ],
      "metadata": {
        "id": "0OutSC833E5d"
      }
    },
    {
      "cell_type": "code",
      "execution_count": 7,
      "metadata": {
        "colab": {
          "base_uri": "https://localhost:8080/"
        },
        "id": "BAqwrmuYIbK3",
        "outputId": "25041601-4af3-4417-991d-b988d7d2523d"
      },
      "outputs": [
        {
          "output_type": "stream",
          "name": "stdout",
          "text": [
            "Looking in indexes: https://pypi.org/simple, https://us-python.pkg.dev/colab-wheels/public/simple/\n",
            "Collecting mrjob\n",
            "  Downloading mrjob-0.7.4-py2.py3-none-any.whl (439 kB)\n",
            "\u001b[2K     \u001b[90m━━━━━━━━━━━━━━━━━━━━━━━━━━━━━━━━━━━━━━━\u001b[0m \u001b[32m439.6/439.6 KB\u001b[0m \u001b[31m8.9 MB/s\u001b[0m eta \u001b[36m0:00:00\u001b[0m\n",
            "\u001b[?25hRequirement already satisfied: PyYAML>=3.10 in /usr/local/lib/python3.9/dist-packages (from mrjob) (6.0)\n",
            "Installing collected packages: mrjob\n",
            "Successfully installed mrjob-0.7.4\n"
          ]
        }
      ],
      "source": [
        "pip install mrjob"
      ]
    },
    {
      "cell_type": "markdown",
      "source": [
        "Question 2"
      ],
      "metadata": {
        "id": "GyPUbEoId7Uy"
      }
    },
    {
      "cell_type": "code",
      "source": [
        "%%file CountWord.py\n",
        "from mrjob.job import MRJob\n",
        "class Count(MRJob):\n",
        "   \n",
        "     def mapper(self, _, line):\n",
        "         for word in line.split():\n",
        "             yield(word, 1)\n",
        "          \n",
        "     def reducer(self, word, counts):\n",
        "         yield(word, sum(counts))\n",
        "  \n",
        "     \n",
        "if __name__ == '__main__':\n",
        "    Count.run()"
      ],
      "metadata": {
        "colab": {
          "base_uri": "https://localhost:8080/"
        },
        "id": "fOKp04y5d64x",
        "outputId": "ae243fd6-abcb-4385-a0d6-4ca6b0bd0af1"
      },
      "execution_count": 8,
      "outputs": [
        {
          "output_type": "stream",
          "name": "stdout",
          "text": [
            "Overwriting CountWord.py\n"
          ]
        }
      ]
    },
    {
      "cell_type": "code",
      "source": [
        "!python CountWord.py file.txt"
      ],
      "metadata": {
        "colab": {
          "base_uri": "https://localhost:8080/"
        },
        "id": "gZw82yzkd_03",
        "outputId": "24127520-66c6-46b5-9479-517282b845a3"
      },
      "execution_count": 9,
      "outputs": [
        {
          "output_type": "stream",
          "name": "stdout",
          "text": [
            "No configs found; falling back on auto-configuration\n",
            "No configs specified for inline runner\n",
            "Creating temp directory /tmp/CountWord.root.20230315.181446.112481\n",
            "Running step 1 of 1...\n",
            "job output is in /tmp/CountWord.root.20230315.181446.112481/output\n",
            "Streaming final output from /tmp/CountWord.root.20230315.181446.112481/output...\n",
            "\"in\"\t3\n",
            "\"increased.\"\t1\n",
            "\"insight\"\t1\n",
            "\"instead\"\t1\n",
            "\"into\"\t3\n",
            "\"is\"\t9\n",
            "\"it\"\t5\n",
            "\"know\"\t1\n",
            "\"large\"\t1\n",
            "\"last\"\t1\n",
            "\"less\"\t1\n",
            "\"let\"\t2\n",
            "\"limited,\"\t1\n",
            "\"lives\"\t1\n",
            "\"look\"\t1\n",
            "\"lot\"\t1\n",
            "\"luggage.\"\t2\n",
            "\"making\"\t1\n",
            "\"more\"\t1\n",
            "\"more,\"\t1\n",
            "\"not\"\t1\n",
            "\"now\"\t1\n",
            "\"of\"\t13\n",
            "\"okay\"\t1\n",
            "\"okay.\"\t1\n",
            "\"on\"\t5\n",
            "\"one\"\t3\n",
            "\"organizations\"\t1\n",
            "\"other\"\t1\n",
            "\"our\"\t2\n",
            "\"out\"\t1\n",
            "\"out.\"\t1\n",
            "\"passed,\"\t1\n",
            "\"people\"\t4\n",
            "\"pretty\"\t1\n",
            "\"problem\"\t1\n",
            "\"problem.\"\t1\n",
            "\"process\"\t1\n",
            "\"process.\"\t1\n",
            "\"professionals\"\t1\n",
            "\"pull\"\t1\n",
            "\"pulling\"\t1\n",
            "\"really\"\t1\n",
            "\"refer\"\t1\n",
            "\"relying\"\t1\n",
            "\"said,\"\t1\n",
            "\"same\"\t2\n",
            "\"says,\"\t1\n",
            "\"server.\"\t1\n",
            "\"servers\"\t1\n",
            "\"should\"\t1\n",
            "\"skills?\"\t1\n",
            "\"smart\"\t2\n",
            "\"so.\"\t1\n",
            "\"solution,\"\t1\n",
            "\"solution.\"\t1\n",
            "\"solution?\"\t1\n",
            "\"solve\"\t1\n",
            "\"sources\"\t1\n",
            "\"speed\"\t1\n",
            "\"spread\"\t1\n",
            "\"store\"\t2\n",
            "\"&\"\t1\n",
            "\"1\"\t1\n",
            "\"4\"\t2\n",
            "\"5\"\t1\n",
            "\"Also\"\t1\n",
            "\"Another\"\t1\n",
            "\"Applications\"\t1\n",
            "\"Below\"\t1\n",
            "\"Big\"\t21\n",
            "\"But\"\t2\n",
            "\"Challenges\"\t1\n",
            "\"Characteristics\"\t1\n",
            "\"Course.\"\t2\n",
            "\"Data\"\t16\n",
            "\"Data,\"\t3\n",
            "\"Data.\"\t3\n",
            "\"Data?\"\t1\n",
            "\"Driving\"\t1\n",
            "\"Engineer\"\t1\n",
            "\"Examples\"\t1\n",
            "\"Factors\"\t1\n",
            "\"For\"\t1\n",
            "\"I\"\t6\n",
            "\"In\"\t3\n",
            "\"Now,\"\t1\n",
            "\"Out\"\t1\n",
            "\"So,\"\t1\n",
            "\"Story\"\t2\n",
            "\"The\"\t2\n",
            "\"Through\"\t1\n",
            "\"Tutorial,\"\t2\n",
            "\"Tutorial:\"\t1\n",
            "\"Types\"\t1\n",
            "\"What\"\t2\n",
            "\"When\"\t1\n",
            "\"You\"\t1\n",
            "\"\\u2022\"\t8\n",
            "\"\\ufeffBig\"\t1\n",
            "\"a\"\t7\n",
            "\"about\"\t1\n",
            "\"along\"\t1\n",
            "\"storing\"\t1\n",
            "\"suggested,\"\t1\n",
            "\"sure\"\t1\n",
            "\"systems\"\t1\n",
            "\"talking\"\t1\n",
            "\"technological\"\t1\n",
            "\"term\"\t1\n",
            "\"that\"\t1\n",
            "\"the\"\t22\n",
            "\"think\"\t4\n",
            "\"this\"\t9\n",
            "\"till\"\t1\n",
            "\"time\"\t3\n",
            "\"times.\"\t1\n",
            "\"to\"\t12\n",
            "\"today,\"\t1\n",
            "\"too\"\t1\n",
            "\"topics\"\t1\n",
            "\"town\"\t2\n",
            "\"towns\"\t1\n",
            "\"towns,\"\t1\n",
            "\"traditional\"\t1\n",
            "\"travel\"\t4\n",
            "\"us\"\t2\n",
            "\"used\"\t1\n",
            "\"village\"\t2\n",
            "\"villages\"\t1\n",
            "\"volume\"\t1\n",
            "\"was\"\t2\n",
            "\"we\"\t2\n",
            "\"were\"\t1\n",
            "\"what\"\t1\n",
            "\"which\"\t3\n",
            "\"why\"\t1\n",
            "\"will\"\t2\n",
            "\"with\"\t5\n",
            "\"world,\"\t1\n",
            "\"years,\"\t1\n",
            "\"you\"\t6\n",
            "\"also\"\t2\n",
            "\"am\"\t1\n",
            "\"amount\"\t1\n",
            "\"an\"\t2\n",
            "\"ancient\"\t1\n",
            "\"and\"\t6\n",
            "\"another\"\t1\n",
            "\"any\"\t1\n",
            "\"applies\"\t1\n",
            "\"are\"\t4\n",
            "\"as\"\t1\n",
            "\"at\"\t2\n",
            "\"bad,\"\t1\n",
            "\"became\"\t2\n",
            "\"because\"\t1\n",
            "\"become\"\t1\n",
            "\"becoming\"\t1\n",
            "\"before?\"\t1\n",
            "\"between\"\t1\n",
            "\"blog\"\t1\n",
            "\"blue,\"\t1\n",
            "\"but\"\t2\n",
            "\"can\"\t3\n",
            "\"carry\"\t1\n",
            "\"cart,\"\t2\n",
            "\"cart.\"\t1\n",
            "\"check\"\t1\n",
            "\"complete\"\t1\n",
            "\"concept\"\t1\n",
            "\"cover\"\t1\n",
            "\"current\"\t1\n",
            "\"data\"\t7\n",
            "\"days,\"\t1\n",
            "\"details\"\t1\n",
            "\"details,\"\t1\n",
            "\"distance\"\t1\n",
            "\"distances\"\t1\n",
            "\"do\"\t3\n",
            "\"don\\u2019t\"\t1\n",
            "\"driven\"\t1\n",
            "\"elephant?\"\t1\n",
            "\"even\"\t2\n",
            "\"everyone\"\t1\n",
            "\"exactly\"\t1\n",
            "\"explore\"\t1\n",
            "\"failing\"\t1\n",
            "\"fantastic\"\t1\n",
            "\"fast\"\t1\n",
            "\"feed\"\t1\n",
            "\"fella\"\t1\n",
            "\"for\"\t1\n",
            "\"from\"\t2\n",
            "\"further\"\t1\n",
            "\"give\"\t1\n",
            "\"groom\"\t1\n",
            "\"growing\"\t1\n",
            "\"growing,\"\t1\n",
            "\"guy\"\t1\n",
            "\"guys\"\t1\n",
            "\"have\"\t1\n",
            "\"have.\"\t1\n",
            "\"haven\\u2019t\"\t1\n",
            "\"heard\"\t1\n",
            "\"horse\"\t4\n",
            "\"horses\"\t1\n",
            "\"how\"\t1\n",
            "\"hunting\"\t1\n",
            "\"impact\"\t1\n",
            "\"impossible\"\t1\n",
            "Removing temp directory /tmp/CountWord.root.20230315.181446.112481...\n"
          ]
        }
      ]
    },
    {
      "cell_type": "markdown",
      "source": [
        "Question 3"
      ],
      "metadata": {
        "id": "1yXgr8HcfD4L"
      }
    },
    {
      "cell_type": "code",
      "source": [
        "%%file wordcount.py\n",
        "from mrjob.job import MRJob\n",
        "class Count(MRJob):\n",
        "  def mapper(self,_,line):\n",
        "    for word in line.split():\n",
        "\n",
        "     yield(word,1)\n",
        "\n",
        "  def reducer(self,word,counts):\n",
        "    yield(word,sum(counts))\n",
        "if __name__=='__main__':\n",
        "   Count.run()   "
      ],
      "metadata": {
        "colab": {
          "base_uri": "https://localhost:8080/"
        },
        "id": "vHnGkZ3IfDcH",
        "outputId": "63addc32-9351-48d9-8b90-9958801518c8"
      },
      "execution_count": 10,
      "outputs": [
        {
          "output_type": "stream",
          "name": "stdout",
          "text": [
            "Overwriting wordcount.py\n"
          ]
        }
      ]
    },
    {
      "cell_type": "code",
      "source": [
        "!python wordcount.py file.txt"
      ],
      "metadata": {
        "colab": {
          "base_uri": "https://localhost:8080/"
        },
        "id": "tOIudDcZfHrN",
        "outputId": "5dbae915-526a-4dc3-f69d-e1cbd78743cb"
      },
      "execution_count": 11,
      "outputs": [
        {
          "output_type": "stream",
          "name": "stdout",
          "text": [
            "No configs found; falling back on auto-configuration\n",
            "No configs specified for inline runner\n",
            "Creating temp directory /tmp/wordcount.root.20230315.181623.989347\n",
            "Running step 1 of 1...\n",
            "job output is in /tmp/wordcount.root.20230315.181623.989347/output\n",
            "Streaming final output from /tmp/wordcount.root.20230315.181623.989347/output...\n",
            "\"in\"\t3\n",
            "\"increased.\"\t1\n",
            "\"insight\"\t1\n",
            "\"instead\"\t1\n",
            "\"into\"\t3\n",
            "\"is\"\t9\n",
            "\"it\"\t5\n",
            "\"know\"\t1\n",
            "\"large\"\t1\n",
            "\"last\"\t1\n",
            "\"less\"\t1\n",
            "\"let\"\t2\n",
            "\"limited,\"\t1\n",
            "\"lives\"\t1\n",
            "\"look\"\t1\n",
            "\"lot\"\t1\n",
            "\"luggage.\"\t2\n",
            "\"making\"\t1\n",
            "\"more\"\t1\n",
            "\"more,\"\t1\n",
            "\"not\"\t1\n",
            "\"now\"\t1\n",
            "\"of\"\t13\n",
            "\"okay\"\t1\n",
            "\"okay.\"\t1\n",
            "\"on\"\t5\n",
            "\"one\"\t3\n",
            "\"organizations\"\t1\n",
            "\"other\"\t1\n",
            "\"our\"\t2\n",
            "\"out\"\t1\n",
            "\"out.\"\t1\n",
            "\"passed,\"\t1\n",
            "\"people\"\t4\n",
            "\"pretty\"\t1\n",
            "\"problem\"\t1\n",
            "\"problem.\"\t1\n",
            "\"process\"\t1\n",
            "\"process.\"\t1\n",
            "\"professionals\"\t1\n",
            "\"pull\"\t1\n",
            "\"pulling\"\t1\n",
            "\"really\"\t1\n",
            "\"refer\"\t1\n",
            "\"relying\"\t1\n",
            "\"said,\"\t1\n",
            "\"same\"\t2\n",
            "\"says,\"\t1\n",
            "\"server.\"\t1\n",
            "\"servers\"\t1\n",
            "\"should\"\t1\n",
            "\"skills?\"\t1\n",
            "\"smart\"\t2\n",
            "\"so.\"\t1\n",
            "\"solution,\"\t1\n",
            "\"solution.\"\t1\n",
            "\"solution?\"\t1\n",
            "\"solve\"\t1\n",
            "\"sources\"\t1\n",
            "\"speed\"\t1\n",
            "\"spread\"\t1\n",
            "\"store\"\t2\n",
            "\"&\"\t1\n",
            "\"1\"\t1\n",
            "\"4\"\t2\n",
            "\"5\"\t1\n",
            "\"Also\"\t1\n",
            "\"Another\"\t1\n",
            "\"Applications\"\t1\n",
            "\"Below\"\t1\n",
            "\"Big\"\t21\n",
            "\"But\"\t2\n",
            "\"Challenges\"\t1\n",
            "\"Characteristics\"\t1\n",
            "\"Course.\"\t2\n",
            "\"Data\"\t16\n",
            "\"Data,\"\t3\n",
            "\"Data.\"\t3\n",
            "\"Data?\"\t1\n",
            "\"Driving\"\t1\n",
            "\"Engineer\"\t1\n",
            "\"Examples\"\t1\n",
            "\"Factors\"\t1\n",
            "\"For\"\t1\n",
            "\"I\"\t6\n",
            "\"In\"\t3\n",
            "\"Now,\"\t1\n",
            "\"Out\"\t1\n",
            "\"So,\"\t1\n",
            "\"Story\"\t2\n",
            "\"The\"\t2\n",
            "\"Through\"\t1\n",
            "\"Tutorial,\"\t2\n",
            "\"Tutorial:\"\t1\n",
            "\"Types\"\t1\n",
            "\"What\"\t2\n",
            "\"When\"\t1\n",
            "\"You\"\t1\n",
            "\"\\u2022\"\t8\n",
            "\"\\ufeffBig\"\t1\n",
            "\"a\"\t7\n",
            "\"about\"\t1\n",
            "\"along\"\t1\n",
            "\"storing\"\t1\n",
            "\"suggested,\"\t1\n",
            "\"sure\"\t1\n",
            "\"systems\"\t1\n",
            "\"talking\"\t1\n",
            "\"technological\"\t1\n",
            "\"term\"\t1\n",
            "\"that\"\t1\n",
            "\"the\"\t22\n",
            "\"think\"\t4\n",
            "\"this\"\t9\n",
            "\"till\"\t1\n",
            "\"time\"\t3\n",
            "\"times.\"\t1\n",
            "\"to\"\t12\n",
            "\"today,\"\t1\n",
            "\"too\"\t1\n",
            "\"topics\"\t1\n",
            "\"town\"\t2\n",
            "\"towns\"\t1\n",
            "\"towns,\"\t1\n",
            "\"traditional\"\t1\n",
            "\"travel\"\t4\n",
            "\"us\"\t2\n",
            "\"used\"\t1\n",
            "\"village\"\t2\n",
            "\"villages\"\t1\n",
            "\"volume\"\t1\n",
            "\"was\"\t2\n",
            "\"we\"\t2\n",
            "\"were\"\t1\n",
            "\"what\"\t1\n",
            "\"which\"\t3\n",
            "\"why\"\t1\n",
            "\"will\"\t2\n",
            "\"with\"\t5\n",
            "\"world,\"\t1\n",
            "\"years,\"\t1\n",
            "\"you\"\t6\n",
            "\"also\"\t2\n",
            "\"am\"\t1\n",
            "\"amount\"\t1\n",
            "\"an\"\t2\n",
            "\"ancient\"\t1\n",
            "\"and\"\t6\n",
            "\"another\"\t1\n",
            "\"any\"\t1\n",
            "\"applies\"\t1\n",
            "\"are\"\t4\n",
            "\"as\"\t1\n",
            "\"at\"\t2\n",
            "\"bad,\"\t1\n",
            "\"became\"\t2\n",
            "\"because\"\t1\n",
            "\"become\"\t1\n",
            "\"becoming\"\t1\n",
            "\"before?\"\t1\n",
            "\"between\"\t1\n",
            "\"blog\"\t1\n",
            "\"blue,\"\t1\n",
            "\"but\"\t2\n",
            "\"can\"\t3\n",
            "\"carry\"\t1\n",
            "\"cart,\"\t2\n",
            "\"cart.\"\t1\n",
            "\"check\"\t1\n",
            "\"complete\"\t1\n",
            "\"concept\"\t1\n",
            "\"cover\"\t1\n",
            "\"current\"\t1\n",
            "\"data\"\t7\n",
            "\"days,\"\t1\n",
            "\"details\"\t1\n",
            "\"details,\"\t1\n",
            "\"distance\"\t1\n",
            "\"distances\"\t1\n",
            "\"do\"\t3\n",
            "\"don\\u2019t\"\t1\n",
            "\"driven\"\t1\n",
            "\"elephant?\"\t1\n",
            "\"even\"\t2\n",
            "\"everyone\"\t1\n",
            "\"exactly\"\t1\n",
            "\"explore\"\t1\n",
            "\"failing\"\t1\n",
            "\"fantastic\"\t1\n",
            "\"fast\"\t1\n",
            "\"feed\"\t1\n",
            "\"fella\"\t1\n",
            "\"for\"\t1\n",
            "\"from\"\t2\n",
            "\"further\"\t1\n",
            "\"give\"\t1\n",
            "\"groom\"\t1\n",
            "\"growing\"\t1\n",
            "\"growing,\"\t1\n",
            "\"guy\"\t1\n",
            "\"guys\"\t1\n",
            "\"have\"\t1\n",
            "\"have.\"\t1\n",
            "\"haven\\u2019t\"\t1\n",
            "\"heard\"\t1\n",
            "\"horse\"\t4\n",
            "\"horses\"\t1\n",
            "\"how\"\t1\n",
            "\"hunting\"\t1\n",
            "\"impact\"\t1\n",
            "\"impossible\"\t1\n",
            "Removing temp directory /tmp/wordcount.root.20230315.181623.989347...\n"
          ]
        }
      ]
    },
    {
      "cell_type": "markdown",
      "source": [
        "Question 4"
      ],
      "metadata": {
        "id": "_UW_TTTSfa0b"
      }
    },
    {
      "cell_type": "code",
      "source": [
        "%%file alphabetcount.py\n",
        "from mrjob.job import MRJob\n",
        "class alphabet(MRJob):\n",
        "  def mapper(self,_,line):\n",
        "    for word in line.split():\n",
        "\n",
        "     yield(word[0].lower(),1)\n",
        "\n",
        "  def reducer(self,first,counts):\n",
        "    yield(first,sum(counts))\n",
        "if __name__=='__main__':\n",
        "   alphabet.run()   "
      ],
      "metadata": {
        "colab": {
          "base_uri": "https://localhost:8080/"
        },
        "id": "axAHt_phfaQz",
        "outputId": "4696504c-2c9b-4234-e6db-c7bca64e679c"
      },
      "execution_count": 12,
      "outputs": [
        {
          "output_type": "stream",
          "name": "stdout",
          "text": [
            "Writing alphabetcount.py\n"
          ]
        }
      ]
    },
    {
      "cell_type": "code",
      "source": [
        "!python alphabetcount.py file.txt"
      ],
      "metadata": {
        "colab": {
          "base_uri": "https://localhost:8080/"
        },
        "id": "mkh_b3-1feDz",
        "outputId": "820c80fa-9504-4136-e33d-fae97182558a"
      },
      "execution_count": 13,
      "outputs": [
        {
          "output_type": "stream",
          "name": "stdout",
          "text": [
            "No configs found; falling back on auto-configuration\n",
            "No configs specified for inline runner\n",
            "Creating temp directory /tmp/alphabetcount.root.20230315.181813.574802\n",
            "Running step 1 of 1...\n",
            "job output is in /tmp/alphabetcount.root.20230315.181813.574802/output\n",
            "Streaming final output from /tmp/alphabetcount.root.20230315.181813.574802/output...\n",
            "\"k\"\t1\n",
            "\"l\"\t11\n",
            "\"m\"\t3\n",
            "\"n\"\t3\n",
            "\"o\"\t30\n",
            "\"p\"\t13\n",
            "\"r\"\t3\n",
            "\"s\"\t27\n",
            "\"t\"\t75\n",
            "\"&\"\t1\n",
            "\"1\"\t1\n",
            "\"4\"\t2\n",
            "\"5\"\t1\n",
            "\"\\u2022\"\t8\n",
            "\"\\ufeff\"\t1\n",
            "\"a\"\t35\n",
            "\"b\"\t36\n",
            "\"c\"\t16\n",
            "\"u\"\t3\n",
            "\"v\"\t4\n",
            "\"w\"\t21\n",
            "\"y\"\t8\n",
            "\"d\"\t41\n",
            "\"e\"\t8\n",
            "\"f\"\t11\n",
            "\"g\"\t6\n",
            "\"h\"\t11\n",
            "\"i\"\t34\n",
            "Removing temp directory /tmp/alphabetcount.root.20230315.181813.574802...\n"
          ]
        }
      ]
    },
    {
      "cell_type": "markdown",
      "source": [
        "Question 5"
      ],
      "metadata": {
        "id": "ESvYvUvJf02Q"
      }
    },
    {
      "cell_type": "code",
      "source": [
        "%%file wordcount.py\n",
        "\n",
        "from mrjob.job import MRJob\n",
        "class Count(MRJob):\n",
        "   # \"\"\" The below mapper() function defines the mapper for MapReduce and takes \n",
        "    #key value argument and generates the output in tuple format . \n",
        "    #The mapper below is splitting the line and generating a word with its own \n",
        "    #count i.e. 1 \"\"\"\n",
        "     def mapper(self, _, line):\n",
        "         for word in line.split():\n",
        "             if len(word)==5:\n",
        "                yield(word, 1)\n",
        "    #\"\"\" The below reducer() is aggregating the result according to their key and\n",
        "    #producing the output in a key-value format with its total count\"\"\"        \n",
        "     def reducer(self, word, counts):\n",
        "         yield(word, sum(counts))\n",
        "  \n",
        "#\"\"\"the below 2 lines are ensuring the execution of mrjob, the program will not\n",
        "#execute without them\"\"\"        \n",
        "if __name__ == '__main__':\n",
        "    Count.run()"
      ],
      "metadata": {
        "colab": {
          "base_uri": "https://localhost:8080/"
        },
        "id": "jyzHXoOfIplY",
        "outputId": "fdb95ba0-02cb-4deb-ad00-862b8c5ea10f"
      },
      "execution_count": 14,
      "outputs": [
        {
          "output_type": "stream",
          "name": "stdout",
          "text": [
            "Overwriting wordcount.py\n"
          ]
        }
      ]
    },
    {
      "cell_type": "code",
      "source": [
        "! python wordcount.py file.txt"
      ],
      "metadata": {
        "colab": {
          "base_uri": "https://localhost:8080/"
        },
        "id": "pAsRhbrMJ8a4",
        "outputId": "0ccd9815-d322-480a-baa7-b5ae3a64b9aa"
      },
      "execution_count": 15,
      "outputs": [
        {
          "output_type": "stream",
          "name": "stdout",
          "text": [
            "No configs found; falling back on auto-configuration\n",
            "No configs specified for inline runner\n",
            "Creating temp directory /tmp/wordcount.root.20230315.181919.598476\n",
            "Running step 1 of 1...\n",
            "job output is in /tmp/wordcount.root.20230315.181919.598476/output\n",
            "Streaming final output from /tmp/wordcount.root.20230315.181919.598476/output...\n",
            "\"large\"\t1\n",
            "\"lives\"\t1\n",
            "\"more,\"\t1\n",
            "\"okay.\"\t1\n",
            "\"other\"\t1\n",
            "\"refer\"\t1\n",
            "\"said,\"\t1\n",
            "\"says,\"\t1\n",
            "\"smart\"\t2\n",
            "\"solve\"\t1\n",
            "\"speed\"\t1\n",
            "\"store\"\t2\n",
            "\"Below\"\t1\n",
            "\"Data,\"\t3\n",
            "\"Data.\"\t3\n",
            "\"Data?\"\t1\n",
            "\"Story\"\t2\n",
            "\"Types\"\t1\n",
            "\"about\"\t1\n",
            "\"along\"\t1\n",
            "\"blue,\"\t1\n",
            "\"think\"\t4\n",
            "\"towns\"\t1\n",
            "\"which\"\t3\n",
            "\"carry\"\t1\n",
            "\"cart,\"\t2\n",
            "\"cart.\"\t1\n",
            "\"check\"\t1\n",
            "\"cover\"\t1\n",
            "\"days,\"\t1\n",
            "\"don\\u2019t\"\t1\n",
            "\"fella\"\t1\n",
            "\"groom\"\t1\n",
            "\"have.\"\t1\n",
            "\"heard\"\t1\n",
            "\"horse\"\t4\n",
            "Removing temp directory /tmp/wordcount.root.20230315.181919.598476...\n"
          ]
        }
      ]
    },
    {
      "cell_type": "markdown",
      "source": [
        "Bonus Question"
      ],
      "metadata": {
        "id": "pAOTr5413Mrp"
      }
    },
    {
      "cell_type": "code",
      "source": [],
      "metadata": {
        "id": "FQyzBpWR3MPa"
      },
      "execution_count": null,
      "outputs": []
    }
  ]
}